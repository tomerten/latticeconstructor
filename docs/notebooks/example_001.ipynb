{
 "cells": [
  {
   "cell_type": "markdown",
   "id": "bf04bb0b",
   "metadata": {},
   "source": [
    "# Tutorial [Basic]"
   ]
  },
  {
   "cell_type": "markdown",
   "id": "eaff8d0e",
   "metadata": {},
   "source": [
    "The goal of the package is to allow a quick and flexible way of constructing a table representing an accelerator lattice. This table should be used as input in the package latticeadaptor for generating accelerator lattice files in various formats and apply more advanced edits if necessary."
   ]
  },
  {
   "cell_type": "code",
   "execution_count": 1,
   "id": "c9995756",
   "metadata": {},
   "outputs": [],
   "source": [
    "from latticeconstructor.core import LatticeBuilderLine"
   ]
  },
  {
   "cell_type": "markdown",
   "id": "93cbe766",
   "metadata": {},
   "source": [
    "## Example 1: FODO"
   ]
  },
  {
   "cell_type": "code",
   "execution_count": 2,
   "id": "2e172a68",
   "metadata": {},
   "outputs": [
    {
     "data": {
      "text/html": [
       "<div>\n",
       "<style scoped>\n",
       "    .dataframe tbody tr th:only-of-type {\n",
       "        vertical-align: middle;\n",
       "    }\n",
       "\n",
       "    .dataframe tbody tr th {\n",
       "        vertical-align: top;\n",
       "    }\n",
       "\n",
       "    .dataframe thead th {\n",
       "        text-align: right;\n",
       "    }\n",
       "</style>\n",
       "<table border=\"1\" class=\"dataframe\">\n",
       "  <thead>\n",
       "    <tr style=\"text-align: right;\">\n",
       "      <th></th>\n",
       "      <th>family</th>\n",
       "      <th>L</th>\n",
       "      <th>filename</th>\n",
       "      <th>mode</th>\n",
       "      <th>name</th>\n",
       "      <th>K1</th>\n",
       "      <th>N_KICKS</th>\n",
       "      <th>pos</th>\n",
       "    </tr>\n",
       "  </thead>\n",
       "  <tbody>\n",
       "    <tr>\n",
       "      <th>0</th>\n",
       "      <td>MARKER</td>\n",
       "      <td>0.0000</td>\n",
       "      <td>\"%s-%03ld.w1\"</td>\n",
       "      <td>coordinates</td>\n",
       "      <td>W1</td>\n",
       "      <td>NaN</td>\n",
       "      <td>NaN</td>\n",
       "      <td>0.00000</td>\n",
       "    </tr>\n",
       "    <tr>\n",
       "      <th>1</th>\n",
       "      <td>QUADRUPOLE</td>\n",
       "      <td>0.3420</td>\n",
       "      <td>NaN</td>\n",
       "      <td>NaN</td>\n",
       "      <td>QF</td>\n",
       "      <td>0.4900</td>\n",
       "      <td>16.0</td>\n",
       "      <td>0.17100</td>\n",
       "    </tr>\n",
       "    <tr>\n",
       "      <th>2</th>\n",
       "      <td>DRIFT</td>\n",
       "      <td>3.5805</td>\n",
       "      <td>NaN</td>\n",
       "      <td>NaN</td>\n",
       "      <td>D</td>\n",
       "      <td>NaN</td>\n",
       "      <td>NaN</td>\n",
       "      <td>2.13225</td>\n",
       "    </tr>\n",
       "    <tr>\n",
       "      <th>3</th>\n",
       "      <td>QUADRUPOLE</td>\n",
       "      <td>0.6680</td>\n",
       "      <td>NaN</td>\n",
       "      <td>NaN</td>\n",
       "      <td>QD</td>\n",
       "      <td>-0.4999</td>\n",
       "      <td>16.0</td>\n",
       "      <td>4.25650</td>\n",
       "    </tr>\n",
       "    <tr>\n",
       "      <th>4</th>\n",
       "      <td>DRIFT</td>\n",
       "      <td>3.5805</td>\n",
       "      <td>NaN</td>\n",
       "      <td>NaN</td>\n",
       "      <td>D</td>\n",
       "      <td>NaN</td>\n",
       "      <td>NaN</td>\n",
       "      <td>6.38075</td>\n",
       "    </tr>\n",
       "    <tr>\n",
       "      <th>5</th>\n",
       "      <td>QUADRUPOLE</td>\n",
       "      <td>0.3420</td>\n",
       "      <td>NaN</td>\n",
       "      <td>NaN</td>\n",
       "      <td>QF</td>\n",
       "      <td>0.4900</td>\n",
       "      <td>16.0</td>\n",
       "      <td>8.34200</td>\n",
       "    </tr>\n",
       "  </tbody>\n",
       "</table>\n",
       "</div>"
      ],
      "text/plain": [
       "       family       L       filename         mode name      K1  N_KICKS  \\\n",
       "0      MARKER  0.0000  \"%s-%03ld.w1\"  coordinates   W1     NaN      NaN   \n",
       "1  QUADRUPOLE  0.3420            NaN          NaN   QF  0.4900     16.0   \n",
       "2       DRIFT  3.5805            NaN          NaN    D     NaN      NaN   \n",
       "3  QUADRUPOLE  0.6680            NaN          NaN   QD -0.4999     16.0   \n",
       "4       DRIFT  3.5805            NaN          NaN    D     NaN      NaN   \n",
       "5  QUADRUPOLE  0.3420            NaN          NaN   QF  0.4900     16.0   \n",
       "\n",
       "       pos  \n",
       "0  0.00000  \n",
       "1  0.17100  \n",
       "2  2.13225  \n",
       "3  4.25650  \n",
       "4  6.38075  \n",
       "5  8.34200  "
      ]
     },
     "execution_count": 2,
     "metadata": {},
     "output_type": "execute_result"
    }
   ],
   "source": [
    "lblfodo = LatticeBuilderLine()\n",
    "\n",
    "# Element definitions\n",
    "lblfodo.add_def(\n",
    "        {\n",
    "            \"QF\": {\"family\" : \"KQUAD\", \"L\": 0.342, \"K1\":  0.4900, \"N_KICKS\": 16},\n",
    "            \"QD\": {\"family\" : \"KQUAD\", \"L\": 0.668, \"K1\": -0.4999, \"N_KICKS\": 16},\n",
    "            \"D\":  {\"family\" : \"DRIF\" , \"L\": 3.5805},\n",
    "            \"W1\": {\"family\" : \"WATCH\", \"L\": 0, \"filename\":\"\\\"%s-%03ld.w1\\\"\",\"mode\": \"coordinates\"}\n",
    "        }\n",
    ")\n",
    "\n",
    "# add elements in order\n",
    "lblfodo.add_element([\"W1\",\"QF\",\"D\",\"QD\",\"D\",\"QF\"])\n",
    "\n",
    "# show lattice table\n",
    "lblfodo.table"
   ]
  },
  {
   "cell_type": "code",
   "execution_count": 3,
   "id": "2bbe42d0",
   "metadata": {},
   "outputs": [
    {
     "data": {
      "text/plain": [
       "{'QF': {'family': 'QUADRUPOLE',\n",
       "  'L': 0.342,\n",
       "  'K1': 0.49,\n",
       "  'N_KICKS': 16,\n",
       "  'name': 'QF'},\n",
       " 'QD': {'family': 'QUADRUPOLE',\n",
       "  'L': 0.668,\n",
       "  'K1': -0.4999,\n",
       "  'N_KICKS': 16,\n",
       "  'name': 'QD'},\n",
       " 'D': {'family': 'DRIFT', 'L': 3.5805, 'name': 'D'},\n",
       " 'W1': {'family': 'MARKER',\n",
       "  'L': 0,\n",
       "  'filename': '\"%s-%03ld.w1\"',\n",
       "  'mode': 'coordinates',\n",
       "  'name': 'W1'}}"
      ]
     },
     "execution_count": 3,
     "metadata": {},
     "output_type": "execute_result"
    }
   ],
   "source": [
    "# check the defintions\n",
    "lblfodo.definitions"
   ]
  },
  {
   "cell_type": "code",
   "execution_count": 4,
   "id": "f67ab70d",
   "metadata": {},
   "outputs": [
    {
     "data": {
      "text/plain": [
       "['W1', 'QF', 'D', 'QD', 'D', 'QF']"
      ]
     },
     "execution_count": 4,
     "metadata": {},
     "output_type": "execute_result"
    }
   ],
   "source": [
    "# check the lattice line definition (expanded)\n",
    "lblfodo.lattice"
   ]
  },
  {
   "cell_type": "markdown",
   "id": "c510734b",
   "metadata": {},
   "source": [
    "## Example 2: Adding definitions and elements"
   ]
  },
  {
   "cell_type": "markdown",
   "id": "1d48fd1f",
   "metadata": {},
   "source": [
    "Adding an element that is not defined will add it to the lattice but will not auto-update the table."
   ]
  },
  {
   "cell_type": "code",
   "execution_count": 5,
   "id": "1b3bea5a",
   "metadata": {},
   "outputs": [
    {
     "name": "stdout",
     "output_type": "stream",
     "text": [
      "Table not updated - not all elements defined.\n",
      "{'END'}\n"
     ]
    },
    {
     "data": {
      "text/plain": [
       "['W1', 'QF', 'D', 'QD', 'D', 'QF', 'END']"
      ]
     },
     "execution_count": 5,
     "metadata": {},
     "output_type": "execute_result"
    }
   ],
   "source": [
    "lblfodo.add_element(\"END\")\n",
    "lblfodo.lattice"
   ]
  },
  {
   "cell_type": "code",
   "execution_count": 6,
   "id": "25e0c903",
   "metadata": {},
   "outputs": [
    {
     "data": {
      "text/html": [
       "<div>\n",
       "<style scoped>\n",
       "    .dataframe tbody tr th:only-of-type {\n",
       "        vertical-align: middle;\n",
       "    }\n",
       "\n",
       "    .dataframe tbody tr th {\n",
       "        vertical-align: top;\n",
       "    }\n",
       "\n",
       "    .dataframe thead th {\n",
       "        text-align: right;\n",
       "    }\n",
       "</style>\n",
       "<table border=\"1\" class=\"dataframe\">\n",
       "  <thead>\n",
       "    <tr style=\"text-align: right;\">\n",
       "      <th></th>\n",
       "      <th>family</th>\n",
       "      <th>L</th>\n",
       "      <th>filename</th>\n",
       "      <th>mode</th>\n",
       "      <th>name</th>\n",
       "      <th>K1</th>\n",
       "      <th>N_KICKS</th>\n",
       "      <th>pos</th>\n",
       "    </tr>\n",
       "  </thead>\n",
       "  <tbody>\n",
       "    <tr>\n",
       "      <th>0</th>\n",
       "      <td>MARKER</td>\n",
       "      <td>0.0000</td>\n",
       "      <td>\"%s-%03ld.w1\"</td>\n",
       "      <td>coordinates</td>\n",
       "      <td>W1</td>\n",
       "      <td>NaN</td>\n",
       "      <td>NaN</td>\n",
       "      <td>0.00000</td>\n",
       "    </tr>\n",
       "    <tr>\n",
       "      <th>1</th>\n",
       "      <td>QUADRUPOLE</td>\n",
       "      <td>0.3420</td>\n",
       "      <td>NaN</td>\n",
       "      <td>NaN</td>\n",
       "      <td>QF</td>\n",
       "      <td>0.4900</td>\n",
       "      <td>16.0</td>\n",
       "      <td>0.17100</td>\n",
       "    </tr>\n",
       "    <tr>\n",
       "      <th>2</th>\n",
       "      <td>DRIFT</td>\n",
       "      <td>3.5805</td>\n",
       "      <td>NaN</td>\n",
       "      <td>NaN</td>\n",
       "      <td>D</td>\n",
       "      <td>NaN</td>\n",
       "      <td>NaN</td>\n",
       "      <td>2.13225</td>\n",
       "    </tr>\n",
       "    <tr>\n",
       "      <th>3</th>\n",
       "      <td>QUADRUPOLE</td>\n",
       "      <td>0.6680</td>\n",
       "      <td>NaN</td>\n",
       "      <td>NaN</td>\n",
       "      <td>QD</td>\n",
       "      <td>-0.4999</td>\n",
       "      <td>16.0</td>\n",
       "      <td>4.25650</td>\n",
       "    </tr>\n",
       "    <tr>\n",
       "      <th>4</th>\n",
       "      <td>DRIFT</td>\n",
       "      <td>3.5805</td>\n",
       "      <td>NaN</td>\n",
       "      <td>NaN</td>\n",
       "      <td>D</td>\n",
       "      <td>NaN</td>\n",
       "      <td>NaN</td>\n",
       "      <td>6.38075</td>\n",
       "    </tr>\n",
       "    <tr>\n",
       "      <th>5</th>\n",
       "      <td>QUADRUPOLE</td>\n",
       "      <td>0.3420</td>\n",
       "      <td>NaN</td>\n",
       "      <td>NaN</td>\n",
       "      <td>QF</td>\n",
       "      <td>0.4900</td>\n",
       "      <td>16.0</td>\n",
       "      <td>8.34200</td>\n",
       "    </tr>\n",
       "  </tbody>\n",
       "</table>\n",
       "</div>"
      ],
      "text/plain": [
       "       family       L       filename         mode name      K1  N_KICKS  \\\n",
       "0      MARKER  0.0000  \"%s-%03ld.w1\"  coordinates   W1     NaN      NaN   \n",
       "1  QUADRUPOLE  0.3420            NaN          NaN   QF  0.4900     16.0   \n",
       "2       DRIFT  3.5805            NaN          NaN    D     NaN      NaN   \n",
       "3  QUADRUPOLE  0.6680            NaN          NaN   QD -0.4999     16.0   \n",
       "4       DRIFT  3.5805            NaN          NaN    D     NaN      NaN   \n",
       "5  QUADRUPOLE  0.3420            NaN          NaN   QF  0.4900     16.0   \n",
       "\n",
       "       pos  \n",
       "0  0.00000  \n",
       "1  0.17100  \n",
       "2  2.13225  \n",
       "3  4.25650  \n",
       "4  6.38075  \n",
       "5  8.34200  "
      ]
     },
     "execution_count": 6,
     "metadata": {},
     "output_type": "execute_result"
    }
   ],
   "source": [
    "lblfodo.table"
   ]
  },
  {
   "cell_type": "markdown",
   "id": "047caa8c",
   "metadata": {},
   "source": [
    "To fix this, add the defintion and manually update the table."
   ]
  },
  {
   "cell_type": "code",
   "execution_count": 7,
   "id": "8b073a9a",
   "metadata": {},
   "outputs": [],
   "source": [
    "# adding a marker\n",
    "lblfodo.add_def({\"END\": {\"family\": \"MARK\", \"L\": 0.0 } })\n",
    "\n",
    "# build table manually \n",
    "lblfodo.build_table()"
   ]
  },
  {
   "cell_type": "code",
   "execution_count": 8,
   "id": "d61c9fa5",
   "metadata": {},
   "outputs": [
    {
     "data": {
      "text/plain": [
       "['W1', 'QF', 'D', 'QD', 'D', 'QF', 'END']"
      ]
     },
     "execution_count": 8,
     "metadata": {},
     "output_type": "execute_result"
    }
   ],
   "source": [
    "lblfodo.lattice"
   ]
  },
  {
   "cell_type": "code",
   "execution_count": 9,
   "id": "022cc529",
   "metadata": {},
   "outputs": [
    {
     "data": {
      "text/html": [
       "<style  type=\"text/css\" >\n",
       "#T_20210_row6_col0,#T_20210_row6_col1,#T_20210_row6_col2,#T_20210_row6_col3,#T_20210_row6_col4,#T_20210_row6_col5,#T_20210_row6_col6,#T_20210_row6_col7{\n",
       "            background:  lightgreen;\n",
       "        }</style><table id=\"T_20210_\" ><thead>    <tr>        <th class=\"blank level0\" ></th>        <th class=\"col_heading level0 col0\" >family</th>        <th class=\"col_heading level0 col1\" >L</th>        <th class=\"col_heading level0 col2\" >filename</th>        <th class=\"col_heading level0 col3\" >mode</th>        <th class=\"col_heading level0 col4\" >name</th>        <th class=\"col_heading level0 col5\" >K1</th>        <th class=\"col_heading level0 col6\" >N_KICKS</th>        <th class=\"col_heading level0 col7\" >pos</th>    </tr></thead><tbody>\n",
       "                <tr>\n",
       "                        <th id=\"T_20210_level0_row0\" class=\"row_heading level0 row0\" >0</th>\n",
       "                        <td id=\"T_20210_row0_col0\" class=\"data row0 col0\" >MARKER</td>\n",
       "                        <td id=\"T_20210_row0_col1\" class=\"data row0 col1\" >0.000000</td>\n",
       "                        <td id=\"T_20210_row0_col2\" class=\"data row0 col2\" >\"%s-%03ld.w1\"</td>\n",
       "                        <td id=\"T_20210_row0_col3\" class=\"data row0 col3\" >coordinates</td>\n",
       "                        <td id=\"T_20210_row0_col4\" class=\"data row0 col4\" >W1</td>\n",
       "                        <td id=\"T_20210_row0_col5\" class=\"data row0 col5\" >nan</td>\n",
       "                        <td id=\"T_20210_row0_col6\" class=\"data row0 col6\" >nan</td>\n",
       "                        <td id=\"T_20210_row0_col7\" class=\"data row0 col7\" >0.000000</td>\n",
       "            </tr>\n",
       "            <tr>\n",
       "                        <th id=\"T_20210_level0_row1\" class=\"row_heading level0 row1\" >1</th>\n",
       "                        <td id=\"T_20210_row1_col0\" class=\"data row1 col0\" >QUADRUPOLE</td>\n",
       "                        <td id=\"T_20210_row1_col1\" class=\"data row1 col1\" >0.342000</td>\n",
       "                        <td id=\"T_20210_row1_col2\" class=\"data row1 col2\" >nan</td>\n",
       "                        <td id=\"T_20210_row1_col3\" class=\"data row1 col3\" >nan</td>\n",
       "                        <td id=\"T_20210_row1_col4\" class=\"data row1 col4\" >QF</td>\n",
       "                        <td id=\"T_20210_row1_col5\" class=\"data row1 col5\" >0.490000</td>\n",
       "                        <td id=\"T_20210_row1_col6\" class=\"data row1 col6\" >16.000000</td>\n",
       "                        <td id=\"T_20210_row1_col7\" class=\"data row1 col7\" >0.171000</td>\n",
       "            </tr>\n",
       "            <tr>\n",
       "                        <th id=\"T_20210_level0_row2\" class=\"row_heading level0 row2\" >2</th>\n",
       "                        <td id=\"T_20210_row2_col0\" class=\"data row2 col0\" >DRIFT</td>\n",
       "                        <td id=\"T_20210_row2_col1\" class=\"data row2 col1\" >3.580500</td>\n",
       "                        <td id=\"T_20210_row2_col2\" class=\"data row2 col2\" >nan</td>\n",
       "                        <td id=\"T_20210_row2_col3\" class=\"data row2 col3\" >nan</td>\n",
       "                        <td id=\"T_20210_row2_col4\" class=\"data row2 col4\" >D</td>\n",
       "                        <td id=\"T_20210_row2_col5\" class=\"data row2 col5\" >nan</td>\n",
       "                        <td id=\"T_20210_row2_col6\" class=\"data row2 col6\" >nan</td>\n",
       "                        <td id=\"T_20210_row2_col7\" class=\"data row2 col7\" >2.132250</td>\n",
       "            </tr>\n",
       "            <tr>\n",
       "                        <th id=\"T_20210_level0_row3\" class=\"row_heading level0 row3\" >3</th>\n",
       "                        <td id=\"T_20210_row3_col0\" class=\"data row3 col0\" >QUADRUPOLE</td>\n",
       "                        <td id=\"T_20210_row3_col1\" class=\"data row3 col1\" >0.668000</td>\n",
       "                        <td id=\"T_20210_row3_col2\" class=\"data row3 col2\" >nan</td>\n",
       "                        <td id=\"T_20210_row3_col3\" class=\"data row3 col3\" >nan</td>\n",
       "                        <td id=\"T_20210_row3_col4\" class=\"data row3 col4\" >QD</td>\n",
       "                        <td id=\"T_20210_row3_col5\" class=\"data row3 col5\" >-0.499900</td>\n",
       "                        <td id=\"T_20210_row3_col6\" class=\"data row3 col6\" >16.000000</td>\n",
       "                        <td id=\"T_20210_row3_col7\" class=\"data row3 col7\" >4.256500</td>\n",
       "            </tr>\n",
       "            <tr>\n",
       "                        <th id=\"T_20210_level0_row4\" class=\"row_heading level0 row4\" >4</th>\n",
       "                        <td id=\"T_20210_row4_col0\" class=\"data row4 col0\" >DRIFT</td>\n",
       "                        <td id=\"T_20210_row4_col1\" class=\"data row4 col1\" >3.580500</td>\n",
       "                        <td id=\"T_20210_row4_col2\" class=\"data row4 col2\" >nan</td>\n",
       "                        <td id=\"T_20210_row4_col3\" class=\"data row4 col3\" >nan</td>\n",
       "                        <td id=\"T_20210_row4_col4\" class=\"data row4 col4\" >D</td>\n",
       "                        <td id=\"T_20210_row4_col5\" class=\"data row4 col5\" >nan</td>\n",
       "                        <td id=\"T_20210_row4_col6\" class=\"data row4 col6\" >nan</td>\n",
       "                        <td id=\"T_20210_row4_col7\" class=\"data row4 col7\" >6.380750</td>\n",
       "            </tr>\n",
       "            <tr>\n",
       "                        <th id=\"T_20210_level0_row5\" class=\"row_heading level0 row5\" >5</th>\n",
       "                        <td id=\"T_20210_row5_col0\" class=\"data row5 col0\" >QUADRUPOLE</td>\n",
       "                        <td id=\"T_20210_row5_col1\" class=\"data row5 col1\" >0.342000</td>\n",
       "                        <td id=\"T_20210_row5_col2\" class=\"data row5 col2\" >nan</td>\n",
       "                        <td id=\"T_20210_row5_col3\" class=\"data row5 col3\" >nan</td>\n",
       "                        <td id=\"T_20210_row5_col4\" class=\"data row5 col4\" >QF</td>\n",
       "                        <td id=\"T_20210_row5_col5\" class=\"data row5 col5\" >0.490000</td>\n",
       "                        <td id=\"T_20210_row5_col6\" class=\"data row5 col6\" >16.000000</td>\n",
       "                        <td id=\"T_20210_row5_col7\" class=\"data row5 col7\" >8.342000</td>\n",
       "            </tr>\n",
       "            <tr>\n",
       "                        <th id=\"T_20210_level0_row6\" class=\"row_heading level0 row6\" >6</th>\n",
       "                        <td id=\"T_20210_row6_col0\" class=\"data row6 col0\" >MARKER</td>\n",
       "                        <td id=\"T_20210_row6_col1\" class=\"data row6 col1\" >0.000000</td>\n",
       "                        <td id=\"T_20210_row6_col2\" class=\"data row6 col2\" >nan</td>\n",
       "                        <td id=\"T_20210_row6_col3\" class=\"data row6 col3\" >nan</td>\n",
       "                        <td id=\"T_20210_row6_col4\" class=\"data row6 col4\" >END</td>\n",
       "                        <td id=\"T_20210_row6_col5\" class=\"data row6 col5\" >nan</td>\n",
       "                        <td id=\"T_20210_row6_col6\" class=\"data row6 col6\" >nan</td>\n",
       "                        <td id=\"T_20210_row6_col7\" class=\"data row6 col7\" >8.513000</td>\n",
       "            </tr>\n",
       "    </tbody></table>"
      ],
      "text/plain": [
       "<pandas.io.formats.style.Styler at 0x7f66fe901850>"
      ]
     },
     "execution_count": 9,
     "metadata": {},
     "output_type": "execute_result"
    }
   ],
   "source": [
    "# we highlight the change\n",
    "lblfodo.table.style.apply(lambda x: ['background: lightgreen' if x.name in [6] else '' for i in x], axis=1)"
   ]
  },
  {
   "cell_type": "markdown",
   "id": "62314fda",
   "metadata": {},
   "source": [
    "## Example 3: Replacing elements"
   ]
  },
  {
   "cell_type": "markdown",
   "id": "cd7d1f02",
   "metadata": {},
   "source": [
    "### Replace single element"
   ]
  },
  {
   "cell_type": "code",
   "execution_count": 10,
   "id": "3655e2ee",
   "metadata": {},
   "outputs": [],
   "source": [
    "lblfodo.replace_element('END','W1')"
   ]
  },
  {
   "cell_type": "code",
   "execution_count": 11,
   "id": "a1f025b1",
   "metadata": {},
   "outputs": [
    {
     "data": {
      "text/plain": [
       "['W1', 'QF', 'D', 'QD', 'D', 'QF', 'W1']"
      ]
     },
     "execution_count": 11,
     "metadata": {},
     "output_type": "execute_result"
    }
   ],
   "source": [
    "lblfodo.lattice"
   ]
  },
  {
   "cell_type": "code",
   "execution_count": 12,
   "id": "82c11e15",
   "metadata": {},
   "outputs": [
    {
     "data": {
      "text/html": [
       "<style  type=\"text/css\" >\n",
       "#T_18cbc_row6_col0,#T_18cbc_row6_col1,#T_18cbc_row6_col2,#T_18cbc_row6_col3,#T_18cbc_row6_col4,#T_18cbc_row6_col5,#T_18cbc_row6_col6,#T_18cbc_row6_col7{\n",
       "            background:  orange;\n",
       "        }</style><table id=\"T_18cbc_\" ><thead>    <tr>        <th class=\"blank level0\" ></th>        <th class=\"col_heading level0 col0\" >family</th>        <th class=\"col_heading level0 col1\" >L</th>        <th class=\"col_heading level0 col2\" >filename</th>        <th class=\"col_heading level0 col3\" >mode</th>        <th class=\"col_heading level0 col4\" >name</th>        <th class=\"col_heading level0 col5\" >K1</th>        <th class=\"col_heading level0 col6\" >N_KICKS</th>        <th class=\"col_heading level0 col7\" >pos</th>    </tr></thead><tbody>\n",
       "                <tr>\n",
       "                        <th id=\"T_18cbc_level0_row0\" class=\"row_heading level0 row0\" >0</th>\n",
       "                        <td id=\"T_18cbc_row0_col0\" class=\"data row0 col0\" >MARKER</td>\n",
       "                        <td id=\"T_18cbc_row0_col1\" class=\"data row0 col1\" >0.000000</td>\n",
       "                        <td id=\"T_18cbc_row0_col2\" class=\"data row0 col2\" >\"%s-%03ld.w1\"</td>\n",
       "                        <td id=\"T_18cbc_row0_col3\" class=\"data row0 col3\" >coordinates</td>\n",
       "                        <td id=\"T_18cbc_row0_col4\" class=\"data row0 col4\" >W1</td>\n",
       "                        <td id=\"T_18cbc_row0_col5\" class=\"data row0 col5\" >nan</td>\n",
       "                        <td id=\"T_18cbc_row0_col6\" class=\"data row0 col6\" >nan</td>\n",
       "                        <td id=\"T_18cbc_row0_col7\" class=\"data row0 col7\" >0.000000</td>\n",
       "            </tr>\n",
       "            <tr>\n",
       "                        <th id=\"T_18cbc_level0_row1\" class=\"row_heading level0 row1\" >1</th>\n",
       "                        <td id=\"T_18cbc_row1_col0\" class=\"data row1 col0\" >QUADRUPOLE</td>\n",
       "                        <td id=\"T_18cbc_row1_col1\" class=\"data row1 col1\" >0.342000</td>\n",
       "                        <td id=\"T_18cbc_row1_col2\" class=\"data row1 col2\" >nan</td>\n",
       "                        <td id=\"T_18cbc_row1_col3\" class=\"data row1 col3\" >nan</td>\n",
       "                        <td id=\"T_18cbc_row1_col4\" class=\"data row1 col4\" >QF</td>\n",
       "                        <td id=\"T_18cbc_row1_col5\" class=\"data row1 col5\" >0.490000</td>\n",
       "                        <td id=\"T_18cbc_row1_col6\" class=\"data row1 col6\" >16.000000</td>\n",
       "                        <td id=\"T_18cbc_row1_col7\" class=\"data row1 col7\" >0.171000</td>\n",
       "            </tr>\n",
       "            <tr>\n",
       "                        <th id=\"T_18cbc_level0_row2\" class=\"row_heading level0 row2\" >2</th>\n",
       "                        <td id=\"T_18cbc_row2_col0\" class=\"data row2 col0\" >DRIFT</td>\n",
       "                        <td id=\"T_18cbc_row2_col1\" class=\"data row2 col1\" >3.580500</td>\n",
       "                        <td id=\"T_18cbc_row2_col2\" class=\"data row2 col2\" >nan</td>\n",
       "                        <td id=\"T_18cbc_row2_col3\" class=\"data row2 col3\" >nan</td>\n",
       "                        <td id=\"T_18cbc_row2_col4\" class=\"data row2 col4\" >D</td>\n",
       "                        <td id=\"T_18cbc_row2_col5\" class=\"data row2 col5\" >nan</td>\n",
       "                        <td id=\"T_18cbc_row2_col6\" class=\"data row2 col6\" >nan</td>\n",
       "                        <td id=\"T_18cbc_row2_col7\" class=\"data row2 col7\" >2.132250</td>\n",
       "            </tr>\n",
       "            <tr>\n",
       "                        <th id=\"T_18cbc_level0_row3\" class=\"row_heading level0 row3\" >3</th>\n",
       "                        <td id=\"T_18cbc_row3_col0\" class=\"data row3 col0\" >QUADRUPOLE</td>\n",
       "                        <td id=\"T_18cbc_row3_col1\" class=\"data row3 col1\" >0.668000</td>\n",
       "                        <td id=\"T_18cbc_row3_col2\" class=\"data row3 col2\" >nan</td>\n",
       "                        <td id=\"T_18cbc_row3_col3\" class=\"data row3 col3\" >nan</td>\n",
       "                        <td id=\"T_18cbc_row3_col4\" class=\"data row3 col4\" >QD</td>\n",
       "                        <td id=\"T_18cbc_row3_col5\" class=\"data row3 col5\" >-0.499900</td>\n",
       "                        <td id=\"T_18cbc_row3_col6\" class=\"data row3 col6\" >16.000000</td>\n",
       "                        <td id=\"T_18cbc_row3_col7\" class=\"data row3 col7\" >4.256500</td>\n",
       "            </tr>\n",
       "            <tr>\n",
       "                        <th id=\"T_18cbc_level0_row4\" class=\"row_heading level0 row4\" >4</th>\n",
       "                        <td id=\"T_18cbc_row4_col0\" class=\"data row4 col0\" >DRIFT</td>\n",
       "                        <td id=\"T_18cbc_row4_col1\" class=\"data row4 col1\" >3.580500</td>\n",
       "                        <td id=\"T_18cbc_row4_col2\" class=\"data row4 col2\" >nan</td>\n",
       "                        <td id=\"T_18cbc_row4_col3\" class=\"data row4 col3\" >nan</td>\n",
       "                        <td id=\"T_18cbc_row4_col4\" class=\"data row4 col4\" >D</td>\n",
       "                        <td id=\"T_18cbc_row4_col5\" class=\"data row4 col5\" >nan</td>\n",
       "                        <td id=\"T_18cbc_row4_col6\" class=\"data row4 col6\" >nan</td>\n",
       "                        <td id=\"T_18cbc_row4_col7\" class=\"data row4 col7\" >6.380750</td>\n",
       "            </tr>\n",
       "            <tr>\n",
       "                        <th id=\"T_18cbc_level0_row5\" class=\"row_heading level0 row5\" >5</th>\n",
       "                        <td id=\"T_18cbc_row5_col0\" class=\"data row5 col0\" >QUADRUPOLE</td>\n",
       "                        <td id=\"T_18cbc_row5_col1\" class=\"data row5 col1\" >0.342000</td>\n",
       "                        <td id=\"T_18cbc_row5_col2\" class=\"data row5 col2\" >nan</td>\n",
       "                        <td id=\"T_18cbc_row5_col3\" class=\"data row5 col3\" >nan</td>\n",
       "                        <td id=\"T_18cbc_row5_col4\" class=\"data row5 col4\" >QF</td>\n",
       "                        <td id=\"T_18cbc_row5_col5\" class=\"data row5 col5\" >0.490000</td>\n",
       "                        <td id=\"T_18cbc_row5_col6\" class=\"data row5 col6\" >16.000000</td>\n",
       "                        <td id=\"T_18cbc_row5_col7\" class=\"data row5 col7\" >8.342000</td>\n",
       "            </tr>\n",
       "            <tr>\n",
       "                        <th id=\"T_18cbc_level0_row6\" class=\"row_heading level0 row6\" >6</th>\n",
       "                        <td id=\"T_18cbc_row6_col0\" class=\"data row6 col0\" >MARKER</td>\n",
       "                        <td id=\"T_18cbc_row6_col1\" class=\"data row6 col1\" >0.000000</td>\n",
       "                        <td id=\"T_18cbc_row6_col2\" class=\"data row6 col2\" >\"%s-%03ld.w1\"</td>\n",
       "                        <td id=\"T_18cbc_row6_col3\" class=\"data row6 col3\" >coordinates</td>\n",
       "                        <td id=\"T_18cbc_row6_col4\" class=\"data row6 col4\" >W1</td>\n",
       "                        <td id=\"T_18cbc_row6_col5\" class=\"data row6 col5\" >nan</td>\n",
       "                        <td id=\"T_18cbc_row6_col6\" class=\"data row6 col6\" >nan</td>\n",
       "                        <td id=\"T_18cbc_row6_col7\" class=\"data row6 col7\" >8.513000</td>\n",
       "            </tr>\n",
       "    </tbody></table>"
      ],
      "text/plain": [
       "<pandas.io.formats.style.Styler at 0x7f66bfbbc520>"
      ]
     },
     "execution_count": 12,
     "metadata": {},
     "output_type": "execute_result"
    }
   ],
   "source": [
    "# we again highlight the change\n",
    "lblfodo.table.style.apply(lambda x: ['background: orange' if x.name in [6] else '' for i in x], axis=1)"
   ]
  },
  {
   "cell_type": "code",
   "execution_count": 13,
   "id": "76aee89e",
   "metadata": {},
   "outputs": [],
   "source": [
    "# undo to keep the previous table\n",
    "lblfodo.undo()"
   ]
  },
  {
   "cell_type": "code",
   "execution_count": 14,
   "id": "acc58339",
   "metadata": {},
   "outputs": [
    {
     "data": {
      "text/plain": [
       "['W1', 'QF', 'D', 'QD', 'D', 'QF', 'END']"
      ]
     },
     "execution_count": 14,
     "metadata": {},
     "output_type": "execute_result"
    }
   ],
   "source": [
    "# check if undo worked\n",
    "lblfodo.lattice"
   ]
  },
  {
   "cell_type": "code",
   "execution_count": 15,
   "id": "254eeef3",
   "metadata": {},
   "outputs": [
    {
     "data": {
      "text/html": [
       "<style  type=\"text/css\" >\n",
       "#T_b1e02_row6_col0,#T_b1e02_row6_col1,#T_b1e02_row6_col2,#T_b1e02_row6_col3,#T_b1e02_row6_col4,#T_b1e02_row6_col5,#T_b1e02_row6_col6,#T_b1e02_row6_col7{\n",
       "            background:  lightgreen;\n",
       "        }</style><table id=\"T_b1e02_\" ><thead>    <tr>        <th class=\"blank level0\" ></th>        <th class=\"col_heading level0 col0\" >family</th>        <th class=\"col_heading level0 col1\" >L</th>        <th class=\"col_heading level0 col2\" >filename</th>        <th class=\"col_heading level0 col3\" >mode</th>        <th class=\"col_heading level0 col4\" >name</th>        <th class=\"col_heading level0 col5\" >K1</th>        <th class=\"col_heading level0 col6\" >N_KICKS</th>        <th class=\"col_heading level0 col7\" >pos</th>    </tr></thead><tbody>\n",
       "                <tr>\n",
       "                        <th id=\"T_b1e02_level0_row0\" class=\"row_heading level0 row0\" >0</th>\n",
       "                        <td id=\"T_b1e02_row0_col0\" class=\"data row0 col0\" >MARKER</td>\n",
       "                        <td id=\"T_b1e02_row0_col1\" class=\"data row0 col1\" >0.000000</td>\n",
       "                        <td id=\"T_b1e02_row0_col2\" class=\"data row0 col2\" >\"%s-%03ld.w1\"</td>\n",
       "                        <td id=\"T_b1e02_row0_col3\" class=\"data row0 col3\" >coordinates</td>\n",
       "                        <td id=\"T_b1e02_row0_col4\" class=\"data row0 col4\" >W1</td>\n",
       "                        <td id=\"T_b1e02_row0_col5\" class=\"data row0 col5\" >nan</td>\n",
       "                        <td id=\"T_b1e02_row0_col6\" class=\"data row0 col6\" >nan</td>\n",
       "                        <td id=\"T_b1e02_row0_col7\" class=\"data row0 col7\" >0.000000</td>\n",
       "            </tr>\n",
       "            <tr>\n",
       "                        <th id=\"T_b1e02_level0_row1\" class=\"row_heading level0 row1\" >1</th>\n",
       "                        <td id=\"T_b1e02_row1_col0\" class=\"data row1 col0\" >QUADRUPOLE</td>\n",
       "                        <td id=\"T_b1e02_row1_col1\" class=\"data row1 col1\" >0.342000</td>\n",
       "                        <td id=\"T_b1e02_row1_col2\" class=\"data row1 col2\" >nan</td>\n",
       "                        <td id=\"T_b1e02_row1_col3\" class=\"data row1 col3\" >nan</td>\n",
       "                        <td id=\"T_b1e02_row1_col4\" class=\"data row1 col4\" >QF</td>\n",
       "                        <td id=\"T_b1e02_row1_col5\" class=\"data row1 col5\" >0.490000</td>\n",
       "                        <td id=\"T_b1e02_row1_col6\" class=\"data row1 col6\" >16.000000</td>\n",
       "                        <td id=\"T_b1e02_row1_col7\" class=\"data row1 col7\" >0.171000</td>\n",
       "            </tr>\n",
       "            <tr>\n",
       "                        <th id=\"T_b1e02_level0_row2\" class=\"row_heading level0 row2\" >2</th>\n",
       "                        <td id=\"T_b1e02_row2_col0\" class=\"data row2 col0\" >DRIFT</td>\n",
       "                        <td id=\"T_b1e02_row2_col1\" class=\"data row2 col1\" >3.580500</td>\n",
       "                        <td id=\"T_b1e02_row2_col2\" class=\"data row2 col2\" >nan</td>\n",
       "                        <td id=\"T_b1e02_row2_col3\" class=\"data row2 col3\" >nan</td>\n",
       "                        <td id=\"T_b1e02_row2_col4\" class=\"data row2 col4\" >D</td>\n",
       "                        <td id=\"T_b1e02_row2_col5\" class=\"data row2 col5\" >nan</td>\n",
       "                        <td id=\"T_b1e02_row2_col6\" class=\"data row2 col6\" >nan</td>\n",
       "                        <td id=\"T_b1e02_row2_col7\" class=\"data row2 col7\" >2.132250</td>\n",
       "            </tr>\n",
       "            <tr>\n",
       "                        <th id=\"T_b1e02_level0_row3\" class=\"row_heading level0 row3\" >3</th>\n",
       "                        <td id=\"T_b1e02_row3_col0\" class=\"data row3 col0\" >QUADRUPOLE</td>\n",
       "                        <td id=\"T_b1e02_row3_col1\" class=\"data row3 col1\" >0.668000</td>\n",
       "                        <td id=\"T_b1e02_row3_col2\" class=\"data row3 col2\" >nan</td>\n",
       "                        <td id=\"T_b1e02_row3_col3\" class=\"data row3 col3\" >nan</td>\n",
       "                        <td id=\"T_b1e02_row3_col4\" class=\"data row3 col4\" >QD</td>\n",
       "                        <td id=\"T_b1e02_row3_col5\" class=\"data row3 col5\" >-0.499900</td>\n",
       "                        <td id=\"T_b1e02_row3_col6\" class=\"data row3 col6\" >16.000000</td>\n",
       "                        <td id=\"T_b1e02_row3_col7\" class=\"data row3 col7\" >4.256500</td>\n",
       "            </tr>\n",
       "            <tr>\n",
       "                        <th id=\"T_b1e02_level0_row4\" class=\"row_heading level0 row4\" >4</th>\n",
       "                        <td id=\"T_b1e02_row4_col0\" class=\"data row4 col0\" >DRIFT</td>\n",
       "                        <td id=\"T_b1e02_row4_col1\" class=\"data row4 col1\" >3.580500</td>\n",
       "                        <td id=\"T_b1e02_row4_col2\" class=\"data row4 col2\" >nan</td>\n",
       "                        <td id=\"T_b1e02_row4_col3\" class=\"data row4 col3\" >nan</td>\n",
       "                        <td id=\"T_b1e02_row4_col4\" class=\"data row4 col4\" >D</td>\n",
       "                        <td id=\"T_b1e02_row4_col5\" class=\"data row4 col5\" >nan</td>\n",
       "                        <td id=\"T_b1e02_row4_col6\" class=\"data row4 col6\" >nan</td>\n",
       "                        <td id=\"T_b1e02_row4_col7\" class=\"data row4 col7\" >6.380750</td>\n",
       "            </tr>\n",
       "            <tr>\n",
       "                        <th id=\"T_b1e02_level0_row5\" class=\"row_heading level0 row5\" >5</th>\n",
       "                        <td id=\"T_b1e02_row5_col0\" class=\"data row5 col0\" >QUADRUPOLE</td>\n",
       "                        <td id=\"T_b1e02_row5_col1\" class=\"data row5 col1\" >0.342000</td>\n",
       "                        <td id=\"T_b1e02_row5_col2\" class=\"data row5 col2\" >nan</td>\n",
       "                        <td id=\"T_b1e02_row5_col3\" class=\"data row5 col3\" >nan</td>\n",
       "                        <td id=\"T_b1e02_row5_col4\" class=\"data row5 col4\" >QF</td>\n",
       "                        <td id=\"T_b1e02_row5_col5\" class=\"data row5 col5\" >0.490000</td>\n",
       "                        <td id=\"T_b1e02_row5_col6\" class=\"data row5 col6\" >16.000000</td>\n",
       "                        <td id=\"T_b1e02_row5_col7\" class=\"data row5 col7\" >8.342000</td>\n",
       "            </tr>\n",
       "            <tr>\n",
       "                        <th id=\"T_b1e02_level0_row6\" class=\"row_heading level0 row6\" >6</th>\n",
       "                        <td id=\"T_b1e02_row6_col0\" class=\"data row6 col0\" >MARKER</td>\n",
       "                        <td id=\"T_b1e02_row6_col1\" class=\"data row6 col1\" >0.000000</td>\n",
       "                        <td id=\"T_b1e02_row6_col2\" class=\"data row6 col2\" >nan</td>\n",
       "                        <td id=\"T_b1e02_row6_col3\" class=\"data row6 col3\" >nan</td>\n",
       "                        <td id=\"T_b1e02_row6_col4\" class=\"data row6 col4\" >END</td>\n",
       "                        <td id=\"T_b1e02_row6_col5\" class=\"data row6 col5\" >nan</td>\n",
       "                        <td id=\"T_b1e02_row6_col6\" class=\"data row6 col6\" >nan</td>\n",
       "                        <td id=\"T_b1e02_row6_col7\" class=\"data row6 col7\" >8.513000</td>\n",
       "            </tr>\n",
       "    </tbody></table>"
      ],
      "text/plain": [
       "<pandas.io.formats.style.Styler at 0x7f66bfb7d040>"
      ]
     },
     "execution_count": 15,
     "metadata": {},
     "output_type": "execute_result"
    }
   ],
   "source": [
    "# check if undo worked\n",
    "lblfodo.table.style.apply(lambda x: ['background: lightgreen' if x.name in [6] else '' for i in x], axis=1)"
   ]
  },
  {
   "cell_type": "markdown",
   "id": "b2870e6a",
   "metadata": {},
   "source": [
    "### Replace a series of elements"
   ]
  },
  {
   "cell_type": "code",
   "execution_count": 16,
   "id": "df3c8e61",
   "metadata": {},
   "outputs": [],
   "source": [
    "start_index = 5\n",
    "stop_index  = 6\n",
    "lblfodo.replace_list(start_index,stop_index,'QF')"
   ]
  },
  {
   "cell_type": "code",
   "execution_count": 17,
   "id": "f5d5037b",
   "metadata": {},
   "outputs": [
    {
     "data": {
      "text/plain": [
       "['W1', 'QF', 'D', 'QD', 'D', 'QF']"
      ]
     },
     "execution_count": 17,
     "metadata": {},
     "output_type": "execute_result"
    }
   ],
   "source": [
    "lblfodo.lattice"
   ]
  },
  {
   "cell_type": "code",
   "execution_count": 18,
   "id": "2bc61da5",
   "metadata": {},
   "outputs": [
    {
     "data": {
      "text/html": [
       "<style  type=\"text/css\" >\n",
       "#T_93015_row5_col0,#T_93015_row5_col1,#T_93015_row5_col2,#T_93015_row5_col3,#T_93015_row5_col4,#T_93015_row5_col5,#T_93015_row5_col6,#T_93015_row5_col7{\n",
       "            background:  orange;\n",
       "        }</style><table id=\"T_93015_\" ><thead>    <tr>        <th class=\"blank level0\" ></th>        <th class=\"col_heading level0 col0\" >family</th>        <th class=\"col_heading level0 col1\" >L</th>        <th class=\"col_heading level0 col2\" >filename</th>        <th class=\"col_heading level0 col3\" >mode</th>        <th class=\"col_heading level0 col4\" >name</th>        <th class=\"col_heading level0 col5\" >K1</th>        <th class=\"col_heading level0 col6\" >N_KICKS</th>        <th class=\"col_heading level0 col7\" >pos</th>    </tr></thead><tbody>\n",
       "                <tr>\n",
       "                        <th id=\"T_93015_level0_row0\" class=\"row_heading level0 row0\" >0</th>\n",
       "                        <td id=\"T_93015_row0_col0\" class=\"data row0 col0\" >MARKER</td>\n",
       "                        <td id=\"T_93015_row0_col1\" class=\"data row0 col1\" >0.000000</td>\n",
       "                        <td id=\"T_93015_row0_col2\" class=\"data row0 col2\" >\"%s-%03ld.w1\"</td>\n",
       "                        <td id=\"T_93015_row0_col3\" class=\"data row0 col3\" >coordinates</td>\n",
       "                        <td id=\"T_93015_row0_col4\" class=\"data row0 col4\" >W1</td>\n",
       "                        <td id=\"T_93015_row0_col5\" class=\"data row0 col5\" >nan</td>\n",
       "                        <td id=\"T_93015_row0_col6\" class=\"data row0 col6\" >nan</td>\n",
       "                        <td id=\"T_93015_row0_col7\" class=\"data row0 col7\" >0.000000</td>\n",
       "            </tr>\n",
       "            <tr>\n",
       "                        <th id=\"T_93015_level0_row1\" class=\"row_heading level0 row1\" >1</th>\n",
       "                        <td id=\"T_93015_row1_col0\" class=\"data row1 col0\" >QUADRUPOLE</td>\n",
       "                        <td id=\"T_93015_row1_col1\" class=\"data row1 col1\" >0.342000</td>\n",
       "                        <td id=\"T_93015_row1_col2\" class=\"data row1 col2\" >nan</td>\n",
       "                        <td id=\"T_93015_row1_col3\" class=\"data row1 col3\" >nan</td>\n",
       "                        <td id=\"T_93015_row1_col4\" class=\"data row1 col4\" >QF</td>\n",
       "                        <td id=\"T_93015_row1_col5\" class=\"data row1 col5\" >0.490000</td>\n",
       "                        <td id=\"T_93015_row1_col6\" class=\"data row1 col6\" >16.000000</td>\n",
       "                        <td id=\"T_93015_row1_col7\" class=\"data row1 col7\" >0.171000</td>\n",
       "            </tr>\n",
       "            <tr>\n",
       "                        <th id=\"T_93015_level0_row2\" class=\"row_heading level0 row2\" >2</th>\n",
       "                        <td id=\"T_93015_row2_col0\" class=\"data row2 col0\" >DRIFT</td>\n",
       "                        <td id=\"T_93015_row2_col1\" class=\"data row2 col1\" >3.580500</td>\n",
       "                        <td id=\"T_93015_row2_col2\" class=\"data row2 col2\" >nan</td>\n",
       "                        <td id=\"T_93015_row2_col3\" class=\"data row2 col3\" >nan</td>\n",
       "                        <td id=\"T_93015_row2_col4\" class=\"data row2 col4\" >D</td>\n",
       "                        <td id=\"T_93015_row2_col5\" class=\"data row2 col5\" >nan</td>\n",
       "                        <td id=\"T_93015_row2_col6\" class=\"data row2 col6\" >nan</td>\n",
       "                        <td id=\"T_93015_row2_col7\" class=\"data row2 col7\" >2.132250</td>\n",
       "            </tr>\n",
       "            <tr>\n",
       "                        <th id=\"T_93015_level0_row3\" class=\"row_heading level0 row3\" >3</th>\n",
       "                        <td id=\"T_93015_row3_col0\" class=\"data row3 col0\" >QUADRUPOLE</td>\n",
       "                        <td id=\"T_93015_row3_col1\" class=\"data row3 col1\" >0.668000</td>\n",
       "                        <td id=\"T_93015_row3_col2\" class=\"data row3 col2\" >nan</td>\n",
       "                        <td id=\"T_93015_row3_col3\" class=\"data row3 col3\" >nan</td>\n",
       "                        <td id=\"T_93015_row3_col4\" class=\"data row3 col4\" >QD</td>\n",
       "                        <td id=\"T_93015_row3_col5\" class=\"data row3 col5\" >-0.499900</td>\n",
       "                        <td id=\"T_93015_row3_col6\" class=\"data row3 col6\" >16.000000</td>\n",
       "                        <td id=\"T_93015_row3_col7\" class=\"data row3 col7\" >4.256500</td>\n",
       "            </tr>\n",
       "            <tr>\n",
       "                        <th id=\"T_93015_level0_row4\" class=\"row_heading level0 row4\" >4</th>\n",
       "                        <td id=\"T_93015_row4_col0\" class=\"data row4 col0\" >DRIFT</td>\n",
       "                        <td id=\"T_93015_row4_col1\" class=\"data row4 col1\" >3.580500</td>\n",
       "                        <td id=\"T_93015_row4_col2\" class=\"data row4 col2\" >nan</td>\n",
       "                        <td id=\"T_93015_row4_col3\" class=\"data row4 col3\" >nan</td>\n",
       "                        <td id=\"T_93015_row4_col4\" class=\"data row4 col4\" >D</td>\n",
       "                        <td id=\"T_93015_row4_col5\" class=\"data row4 col5\" >nan</td>\n",
       "                        <td id=\"T_93015_row4_col6\" class=\"data row4 col6\" >nan</td>\n",
       "                        <td id=\"T_93015_row4_col7\" class=\"data row4 col7\" >6.380750</td>\n",
       "            </tr>\n",
       "            <tr>\n",
       "                        <th id=\"T_93015_level0_row5\" class=\"row_heading level0 row5\" >5</th>\n",
       "                        <td id=\"T_93015_row5_col0\" class=\"data row5 col0\" >QUADRUPOLE</td>\n",
       "                        <td id=\"T_93015_row5_col1\" class=\"data row5 col1\" >0.342000</td>\n",
       "                        <td id=\"T_93015_row5_col2\" class=\"data row5 col2\" >nan</td>\n",
       "                        <td id=\"T_93015_row5_col3\" class=\"data row5 col3\" >nan</td>\n",
       "                        <td id=\"T_93015_row5_col4\" class=\"data row5 col4\" >QF</td>\n",
       "                        <td id=\"T_93015_row5_col5\" class=\"data row5 col5\" >0.490000</td>\n",
       "                        <td id=\"T_93015_row5_col6\" class=\"data row5 col6\" >16.000000</td>\n",
       "                        <td id=\"T_93015_row5_col7\" class=\"data row5 col7\" >8.342000</td>\n",
       "            </tr>\n",
       "    </tbody></table>"
      ],
      "text/plain": [
       "<pandas.io.formats.style.Styler at 0x7f66fe9010d0>"
      ]
     },
     "execution_count": 18,
     "metadata": {},
     "output_type": "execute_result"
    }
   ],
   "source": [
    "lblfodo.table.style.apply(lambda x: ['background: orange' if x.name in [5] else '' for i in x], axis=1)"
   ]
  },
  {
   "cell_type": "markdown",
   "id": "685bd7f9",
   "metadata": {},
   "source": [
    "## Example 4: Inserting elements"
   ]
  },
  {
   "cell_type": "markdown",
   "id": "d2b4a736",
   "metadata": {},
   "source": [
    "### Insert element before index"
   ]
  },
  {
   "cell_type": "code",
   "execution_count": 19,
   "id": "12c1fc03",
   "metadata": {},
   "outputs": [],
   "source": [
    "lblfodo.insert_element_before(\"END\",5)"
   ]
  },
  {
   "cell_type": "code",
   "execution_count": 20,
   "id": "665a86c4",
   "metadata": {},
   "outputs": [
    {
     "data": {
      "text/html": [
       "<style  type=\"text/css\" >\n",
       "#T_f8861_row5_col0,#T_f8861_row5_col1,#T_f8861_row5_col2,#T_f8861_row5_col3,#T_f8861_row5_col4,#T_f8861_row5_col5,#T_f8861_row5_col6,#T_f8861_row5_col7{\n",
       "            background:  orange;\n",
       "        }</style><table id=\"T_f8861_\" ><thead>    <tr>        <th class=\"blank level0\" ></th>        <th class=\"col_heading level0 col0\" >family</th>        <th class=\"col_heading level0 col1\" >L</th>        <th class=\"col_heading level0 col2\" >filename</th>        <th class=\"col_heading level0 col3\" >mode</th>        <th class=\"col_heading level0 col4\" >name</th>        <th class=\"col_heading level0 col5\" >K1</th>        <th class=\"col_heading level0 col6\" >N_KICKS</th>        <th class=\"col_heading level0 col7\" >pos</th>    </tr></thead><tbody>\n",
       "                <tr>\n",
       "                        <th id=\"T_f8861_level0_row0\" class=\"row_heading level0 row0\" >0</th>\n",
       "                        <td id=\"T_f8861_row0_col0\" class=\"data row0 col0\" >MARKER</td>\n",
       "                        <td id=\"T_f8861_row0_col1\" class=\"data row0 col1\" >0.000000</td>\n",
       "                        <td id=\"T_f8861_row0_col2\" class=\"data row0 col2\" >\"%s-%03ld.w1\"</td>\n",
       "                        <td id=\"T_f8861_row0_col3\" class=\"data row0 col3\" >coordinates</td>\n",
       "                        <td id=\"T_f8861_row0_col4\" class=\"data row0 col4\" >W1</td>\n",
       "                        <td id=\"T_f8861_row0_col5\" class=\"data row0 col5\" >nan</td>\n",
       "                        <td id=\"T_f8861_row0_col6\" class=\"data row0 col6\" >nan</td>\n",
       "                        <td id=\"T_f8861_row0_col7\" class=\"data row0 col7\" >0.000000</td>\n",
       "            </tr>\n",
       "            <tr>\n",
       "                        <th id=\"T_f8861_level0_row1\" class=\"row_heading level0 row1\" >1</th>\n",
       "                        <td id=\"T_f8861_row1_col0\" class=\"data row1 col0\" >QUADRUPOLE</td>\n",
       "                        <td id=\"T_f8861_row1_col1\" class=\"data row1 col1\" >0.342000</td>\n",
       "                        <td id=\"T_f8861_row1_col2\" class=\"data row1 col2\" >nan</td>\n",
       "                        <td id=\"T_f8861_row1_col3\" class=\"data row1 col3\" >nan</td>\n",
       "                        <td id=\"T_f8861_row1_col4\" class=\"data row1 col4\" >QF</td>\n",
       "                        <td id=\"T_f8861_row1_col5\" class=\"data row1 col5\" >0.490000</td>\n",
       "                        <td id=\"T_f8861_row1_col6\" class=\"data row1 col6\" >16.000000</td>\n",
       "                        <td id=\"T_f8861_row1_col7\" class=\"data row1 col7\" >0.171000</td>\n",
       "            </tr>\n",
       "            <tr>\n",
       "                        <th id=\"T_f8861_level0_row2\" class=\"row_heading level0 row2\" >2</th>\n",
       "                        <td id=\"T_f8861_row2_col0\" class=\"data row2 col0\" >DRIFT</td>\n",
       "                        <td id=\"T_f8861_row2_col1\" class=\"data row2 col1\" >3.580500</td>\n",
       "                        <td id=\"T_f8861_row2_col2\" class=\"data row2 col2\" >nan</td>\n",
       "                        <td id=\"T_f8861_row2_col3\" class=\"data row2 col3\" >nan</td>\n",
       "                        <td id=\"T_f8861_row2_col4\" class=\"data row2 col4\" >D</td>\n",
       "                        <td id=\"T_f8861_row2_col5\" class=\"data row2 col5\" >nan</td>\n",
       "                        <td id=\"T_f8861_row2_col6\" class=\"data row2 col6\" >nan</td>\n",
       "                        <td id=\"T_f8861_row2_col7\" class=\"data row2 col7\" >2.132250</td>\n",
       "            </tr>\n",
       "            <tr>\n",
       "                        <th id=\"T_f8861_level0_row3\" class=\"row_heading level0 row3\" >3</th>\n",
       "                        <td id=\"T_f8861_row3_col0\" class=\"data row3 col0\" >QUADRUPOLE</td>\n",
       "                        <td id=\"T_f8861_row3_col1\" class=\"data row3 col1\" >0.668000</td>\n",
       "                        <td id=\"T_f8861_row3_col2\" class=\"data row3 col2\" >nan</td>\n",
       "                        <td id=\"T_f8861_row3_col3\" class=\"data row3 col3\" >nan</td>\n",
       "                        <td id=\"T_f8861_row3_col4\" class=\"data row3 col4\" >QD</td>\n",
       "                        <td id=\"T_f8861_row3_col5\" class=\"data row3 col5\" >-0.499900</td>\n",
       "                        <td id=\"T_f8861_row3_col6\" class=\"data row3 col6\" >16.000000</td>\n",
       "                        <td id=\"T_f8861_row3_col7\" class=\"data row3 col7\" >4.256500</td>\n",
       "            </tr>\n",
       "            <tr>\n",
       "                        <th id=\"T_f8861_level0_row4\" class=\"row_heading level0 row4\" >4</th>\n",
       "                        <td id=\"T_f8861_row4_col0\" class=\"data row4 col0\" >DRIFT</td>\n",
       "                        <td id=\"T_f8861_row4_col1\" class=\"data row4 col1\" >3.580500</td>\n",
       "                        <td id=\"T_f8861_row4_col2\" class=\"data row4 col2\" >nan</td>\n",
       "                        <td id=\"T_f8861_row4_col3\" class=\"data row4 col3\" >nan</td>\n",
       "                        <td id=\"T_f8861_row4_col4\" class=\"data row4 col4\" >D</td>\n",
       "                        <td id=\"T_f8861_row4_col5\" class=\"data row4 col5\" >nan</td>\n",
       "                        <td id=\"T_f8861_row4_col6\" class=\"data row4 col6\" >nan</td>\n",
       "                        <td id=\"T_f8861_row4_col7\" class=\"data row4 col7\" >6.380750</td>\n",
       "            </tr>\n",
       "            <tr>\n",
       "                        <th id=\"T_f8861_level0_row5\" class=\"row_heading level0 row5\" >5</th>\n",
       "                        <td id=\"T_f8861_row5_col0\" class=\"data row5 col0\" >MARKER</td>\n",
       "                        <td id=\"T_f8861_row5_col1\" class=\"data row5 col1\" >0.000000</td>\n",
       "                        <td id=\"T_f8861_row5_col2\" class=\"data row5 col2\" >nan</td>\n",
       "                        <td id=\"T_f8861_row5_col3\" class=\"data row5 col3\" >nan</td>\n",
       "                        <td id=\"T_f8861_row5_col4\" class=\"data row5 col4\" >END</td>\n",
       "                        <td id=\"T_f8861_row5_col5\" class=\"data row5 col5\" >nan</td>\n",
       "                        <td id=\"T_f8861_row5_col6\" class=\"data row5 col6\" >nan</td>\n",
       "                        <td id=\"T_f8861_row5_col7\" class=\"data row5 col7\" >8.171000</td>\n",
       "            </tr>\n",
       "            <tr>\n",
       "                        <th id=\"T_f8861_level0_row6\" class=\"row_heading level0 row6\" >6</th>\n",
       "                        <td id=\"T_f8861_row6_col0\" class=\"data row6 col0\" >QUADRUPOLE</td>\n",
       "                        <td id=\"T_f8861_row6_col1\" class=\"data row6 col1\" >0.342000</td>\n",
       "                        <td id=\"T_f8861_row6_col2\" class=\"data row6 col2\" >nan</td>\n",
       "                        <td id=\"T_f8861_row6_col3\" class=\"data row6 col3\" >nan</td>\n",
       "                        <td id=\"T_f8861_row6_col4\" class=\"data row6 col4\" >QF</td>\n",
       "                        <td id=\"T_f8861_row6_col5\" class=\"data row6 col5\" >0.490000</td>\n",
       "                        <td id=\"T_f8861_row6_col6\" class=\"data row6 col6\" >16.000000</td>\n",
       "                        <td id=\"T_f8861_row6_col7\" class=\"data row6 col7\" >8.342000</td>\n",
       "            </tr>\n",
       "    </tbody></table>"
      ],
      "text/plain": [
       "<pandas.io.formats.style.Styler at 0x7f66bfbf2850>"
      ]
     },
     "execution_count": 20,
     "metadata": {},
     "output_type": "execute_result"
    }
   ],
   "source": [
    "lblfodo.table.style.apply(lambda x: ['background: orange' if x.name in [5] else '' for i in x], axis=1)"
   ]
  },
  {
   "cell_type": "code",
   "execution_count": 21,
   "id": "648adf6d",
   "metadata": {},
   "outputs": [],
   "source": [
    "# undo to keep the table\n",
    "lblfodo.undo()"
   ]
  },
  {
   "cell_type": "markdown",
   "id": "127d5225",
   "metadata": {},
   "source": [
    "### Insert element after index"
   ]
  },
  {
   "cell_type": "code",
   "execution_count": 22,
   "id": "a448a789",
   "metadata": {},
   "outputs": [],
   "source": [
    "lblfodo.insert_element_after(\"END\",5)"
   ]
  },
  {
   "cell_type": "code",
   "execution_count": 23,
   "id": "93dcffa4",
   "metadata": {},
   "outputs": [
    {
     "data": {
      "text/html": [
       "<style  type=\"text/css\" >\n",
       "#T_f5493_row6_col0,#T_f5493_row6_col1,#T_f5493_row6_col2,#T_f5493_row6_col3,#T_f5493_row6_col4,#T_f5493_row6_col5,#T_f5493_row6_col6,#T_f5493_row6_col7{\n",
       "            background:  orange;\n",
       "        }</style><table id=\"T_f5493_\" ><thead>    <tr>        <th class=\"blank level0\" ></th>        <th class=\"col_heading level0 col0\" >family</th>        <th class=\"col_heading level0 col1\" >L</th>        <th class=\"col_heading level0 col2\" >filename</th>        <th class=\"col_heading level0 col3\" >mode</th>        <th class=\"col_heading level0 col4\" >name</th>        <th class=\"col_heading level0 col5\" >K1</th>        <th class=\"col_heading level0 col6\" >N_KICKS</th>        <th class=\"col_heading level0 col7\" >pos</th>    </tr></thead><tbody>\n",
       "                <tr>\n",
       "                        <th id=\"T_f5493_level0_row0\" class=\"row_heading level0 row0\" >0</th>\n",
       "                        <td id=\"T_f5493_row0_col0\" class=\"data row0 col0\" >MARKER</td>\n",
       "                        <td id=\"T_f5493_row0_col1\" class=\"data row0 col1\" >0.000000</td>\n",
       "                        <td id=\"T_f5493_row0_col2\" class=\"data row0 col2\" >\"%s-%03ld.w1\"</td>\n",
       "                        <td id=\"T_f5493_row0_col3\" class=\"data row0 col3\" >coordinates</td>\n",
       "                        <td id=\"T_f5493_row0_col4\" class=\"data row0 col4\" >W1</td>\n",
       "                        <td id=\"T_f5493_row0_col5\" class=\"data row0 col5\" >nan</td>\n",
       "                        <td id=\"T_f5493_row0_col6\" class=\"data row0 col6\" >nan</td>\n",
       "                        <td id=\"T_f5493_row0_col7\" class=\"data row0 col7\" >0.000000</td>\n",
       "            </tr>\n",
       "            <tr>\n",
       "                        <th id=\"T_f5493_level0_row1\" class=\"row_heading level0 row1\" >1</th>\n",
       "                        <td id=\"T_f5493_row1_col0\" class=\"data row1 col0\" >QUADRUPOLE</td>\n",
       "                        <td id=\"T_f5493_row1_col1\" class=\"data row1 col1\" >0.342000</td>\n",
       "                        <td id=\"T_f5493_row1_col2\" class=\"data row1 col2\" >nan</td>\n",
       "                        <td id=\"T_f5493_row1_col3\" class=\"data row1 col3\" >nan</td>\n",
       "                        <td id=\"T_f5493_row1_col4\" class=\"data row1 col4\" >QF</td>\n",
       "                        <td id=\"T_f5493_row1_col5\" class=\"data row1 col5\" >0.490000</td>\n",
       "                        <td id=\"T_f5493_row1_col6\" class=\"data row1 col6\" >16.000000</td>\n",
       "                        <td id=\"T_f5493_row1_col7\" class=\"data row1 col7\" >0.171000</td>\n",
       "            </tr>\n",
       "            <tr>\n",
       "                        <th id=\"T_f5493_level0_row2\" class=\"row_heading level0 row2\" >2</th>\n",
       "                        <td id=\"T_f5493_row2_col0\" class=\"data row2 col0\" >DRIFT</td>\n",
       "                        <td id=\"T_f5493_row2_col1\" class=\"data row2 col1\" >3.580500</td>\n",
       "                        <td id=\"T_f5493_row2_col2\" class=\"data row2 col2\" >nan</td>\n",
       "                        <td id=\"T_f5493_row2_col3\" class=\"data row2 col3\" >nan</td>\n",
       "                        <td id=\"T_f5493_row2_col4\" class=\"data row2 col4\" >D</td>\n",
       "                        <td id=\"T_f5493_row2_col5\" class=\"data row2 col5\" >nan</td>\n",
       "                        <td id=\"T_f5493_row2_col6\" class=\"data row2 col6\" >nan</td>\n",
       "                        <td id=\"T_f5493_row2_col7\" class=\"data row2 col7\" >2.132250</td>\n",
       "            </tr>\n",
       "            <tr>\n",
       "                        <th id=\"T_f5493_level0_row3\" class=\"row_heading level0 row3\" >3</th>\n",
       "                        <td id=\"T_f5493_row3_col0\" class=\"data row3 col0\" >QUADRUPOLE</td>\n",
       "                        <td id=\"T_f5493_row3_col1\" class=\"data row3 col1\" >0.668000</td>\n",
       "                        <td id=\"T_f5493_row3_col2\" class=\"data row3 col2\" >nan</td>\n",
       "                        <td id=\"T_f5493_row3_col3\" class=\"data row3 col3\" >nan</td>\n",
       "                        <td id=\"T_f5493_row3_col4\" class=\"data row3 col4\" >QD</td>\n",
       "                        <td id=\"T_f5493_row3_col5\" class=\"data row3 col5\" >-0.499900</td>\n",
       "                        <td id=\"T_f5493_row3_col6\" class=\"data row3 col6\" >16.000000</td>\n",
       "                        <td id=\"T_f5493_row3_col7\" class=\"data row3 col7\" >4.256500</td>\n",
       "            </tr>\n",
       "            <tr>\n",
       "                        <th id=\"T_f5493_level0_row4\" class=\"row_heading level0 row4\" >4</th>\n",
       "                        <td id=\"T_f5493_row4_col0\" class=\"data row4 col0\" >DRIFT</td>\n",
       "                        <td id=\"T_f5493_row4_col1\" class=\"data row4 col1\" >3.580500</td>\n",
       "                        <td id=\"T_f5493_row4_col2\" class=\"data row4 col2\" >nan</td>\n",
       "                        <td id=\"T_f5493_row4_col3\" class=\"data row4 col3\" >nan</td>\n",
       "                        <td id=\"T_f5493_row4_col4\" class=\"data row4 col4\" >D</td>\n",
       "                        <td id=\"T_f5493_row4_col5\" class=\"data row4 col5\" >nan</td>\n",
       "                        <td id=\"T_f5493_row4_col6\" class=\"data row4 col6\" >nan</td>\n",
       "                        <td id=\"T_f5493_row4_col7\" class=\"data row4 col7\" >6.380750</td>\n",
       "            </tr>\n",
       "            <tr>\n",
       "                        <th id=\"T_f5493_level0_row5\" class=\"row_heading level0 row5\" >5</th>\n",
       "                        <td id=\"T_f5493_row5_col0\" class=\"data row5 col0\" >QUADRUPOLE</td>\n",
       "                        <td id=\"T_f5493_row5_col1\" class=\"data row5 col1\" >0.342000</td>\n",
       "                        <td id=\"T_f5493_row5_col2\" class=\"data row5 col2\" >nan</td>\n",
       "                        <td id=\"T_f5493_row5_col3\" class=\"data row5 col3\" >nan</td>\n",
       "                        <td id=\"T_f5493_row5_col4\" class=\"data row5 col4\" >QF</td>\n",
       "                        <td id=\"T_f5493_row5_col5\" class=\"data row5 col5\" >0.490000</td>\n",
       "                        <td id=\"T_f5493_row5_col6\" class=\"data row5 col6\" >16.000000</td>\n",
       "                        <td id=\"T_f5493_row5_col7\" class=\"data row5 col7\" >8.342000</td>\n",
       "            </tr>\n",
       "            <tr>\n",
       "                        <th id=\"T_f5493_level0_row6\" class=\"row_heading level0 row6\" >6</th>\n",
       "                        <td id=\"T_f5493_row6_col0\" class=\"data row6 col0\" >MARKER</td>\n",
       "                        <td id=\"T_f5493_row6_col1\" class=\"data row6 col1\" >0.000000</td>\n",
       "                        <td id=\"T_f5493_row6_col2\" class=\"data row6 col2\" >nan</td>\n",
       "                        <td id=\"T_f5493_row6_col3\" class=\"data row6 col3\" >nan</td>\n",
       "                        <td id=\"T_f5493_row6_col4\" class=\"data row6 col4\" >END</td>\n",
       "                        <td id=\"T_f5493_row6_col5\" class=\"data row6 col5\" >nan</td>\n",
       "                        <td id=\"T_f5493_row6_col6\" class=\"data row6 col6\" >nan</td>\n",
       "                        <td id=\"T_f5493_row6_col7\" class=\"data row6 col7\" >8.513000</td>\n",
       "            </tr>\n",
       "    </tbody></table>"
      ],
      "text/plain": [
       "<pandas.io.formats.style.Styler at 0x7f66bfbf2b20>"
      ]
     },
     "execution_count": 23,
     "metadata": {},
     "output_type": "execute_result"
    }
   ],
   "source": [
    "lblfodo.table.style.apply(lambda x: ['background: orange' if x.name in [6] else '' for i in x], axis=1)"
   ]
  },
  {
   "cell_type": "code",
   "execution_count": 24,
   "id": "2bbfb151",
   "metadata": {},
   "outputs": [
    {
     "data": {
      "text/plain": [
       "['W1', 'QF', 'D', 'QD', 'D', 'QF', 'END']"
      ]
     },
     "execution_count": 24,
     "metadata": {},
     "output_type": "execute_result"
    }
   ],
   "source": [
    "lblfodo.lattice"
   ]
  },
  {
   "cell_type": "code",
   "execution_count": 25,
   "id": "40164ac1",
   "metadata": {},
   "outputs": [
    {
     "data": {
      "text/plain": [
       "['W1', 'QF', 'D', 'QD', 'D', 'QF']"
      ]
     },
     "execution_count": 25,
     "metadata": {},
     "output_type": "execute_result"
    }
   ],
   "source": [
    "lblfodo.undo()\n",
    "lblfodo.lattice"
   ]
  },
  {
   "cell_type": "markdown",
   "id": "dc75bbd2",
   "metadata": {},
   "source": [
    "## Example 5: Removing elements"
   ]
  },
  {
   "cell_type": "markdown",
   "id": "87f10c44",
   "metadata": {},
   "source": [
    "### Remove at index"
   ]
  },
  {
   "cell_type": "code",
   "execution_count": 26,
   "id": "1cb7c567",
   "metadata": {},
   "outputs": [],
   "source": [
    "lblfodo.remove_element(2)"
   ]
  },
  {
   "cell_type": "code",
   "execution_count": 27,
   "id": "c06935b2",
   "metadata": {},
   "outputs": [
    {
     "data": {
      "text/plain": [
       "['W1', 'QF', 'QD', 'D', 'QF']"
      ]
     },
     "execution_count": 27,
     "metadata": {},
     "output_type": "execute_result"
    }
   ],
   "source": [
    "lblfodo.lattice"
   ]
  },
  {
   "cell_type": "code",
   "execution_count": 28,
   "id": "709512f2",
   "metadata": {},
   "outputs": [
    {
     "data": {
      "text/plain": [
       "['W1', 'QF', 'D', 'QD', 'D', 'QF']"
      ]
     },
     "execution_count": 28,
     "metadata": {},
     "output_type": "execute_result"
    }
   ],
   "source": [
    "lblfodo.undo()\n",
    "lblfodo.lattice"
   ]
  },
  {
   "cell_type": "markdown",
   "id": "8f03a52c",
   "metadata": {},
   "source": [
    "### Remove between indices"
   ]
  },
  {
   "cell_type": "code",
   "execution_count": 29,
   "id": "32d87b50",
   "metadata": {},
   "outputs": [
    {
     "data": {
      "text/plain": [
       "['W1', 'QF', 'QF']"
      ]
     },
     "execution_count": 29,
     "metadata": {},
     "output_type": "execute_result"
    }
   ],
   "source": [
    "lblfodo.remove_from_to(2,4)\n",
    "lblfodo.lattice"
   ]
  },
  {
   "cell_type": "code",
   "execution_count": 30,
   "id": "28f16a41",
   "metadata": {},
   "outputs": [
    {
     "data": {
      "text/plain": [
       "['W1', 'QF', 'D', 'QD', 'D', 'QF']"
      ]
     },
     "execution_count": 30,
     "metadata": {},
     "output_type": "execute_result"
    }
   ],
   "source": [
    "lblfodo.undo()\n",
    "lblfodo.lattice"
   ]
  },
  {
   "cell_type": "markdown",
   "id": "e4d12ce4",
   "metadata": {},
   "source": [
    "## Example 6: getting int index of elements"
   ]
  },
  {
   "cell_type": "code",
   "execution_count": 31,
   "id": "1a7159df",
   "metadata": {},
   "outputs": [
    {
     "data": {
      "text/plain": [
       "[1, 5]"
      ]
     },
     "execution_count": 31,
     "metadata": {},
     "output_type": "execute_result"
    }
   ],
   "source": [
    "lblfodo.get_idx('QF')"
   ]
  },
  {
   "cell_type": "markdown",
   "id": "d4dbe34a",
   "metadata": {},
   "source": [
    "# Tutorial [advanced]"
   ]
  },
  {
   "cell_type": "markdown",
   "id": "134ee690",
   "metadata": {},
   "source": [
    "The more advanced tutorial shows how to read in definitions and lattice constructions from various standard formats and prepare them to be manipulated by the LatticeBuilderLine class."
   ]
  },
  {
   "cell_type": "markdown",
   "id": "42de83ff",
   "metadata": {},
   "source": [
    "## Elegant"
   ]
  },
  {
   "cell_type": "code",
   "execution_count": 32,
   "id": "e96ae329",
   "metadata": {},
   "outputs": [
    {
     "name": "stdout",
     "output_type": "stream",
     "text": [
      "! FODO cell used for studying TRIBs\n",
      "\n",
      "QF    : KQUAD, L= 0.342000000000, K1= 0.490000000000, N_KICKS=16.000000000000\n",
      "QD    : KQUAD, L= 0.668000000000, K1=-0.499900000000, N_KICKS=16.000000000000\n",
      "D     : DRIF, L= 3.580500000000\n",
      "W1    : WATCH, filename=\"%s-%03ld.w1\", mode=coordinates\n",
      "\n",
      "FODO  : LINE=(W1,QF,D,QD,D,QF)\n"
     ]
    }
   ],
   "source": [
    "# generate lte lattice file \n",
    "elements ={\n",
    "    \"QF\": {\"type\" : \"KQUAD\", \"L\": 0.342, \"K1\":  0.4900, \"N_KICKS\": 16},\n",
    "    \"QD\": {\"type\" : \"KQUAD\", \"L\": 0.668, \"K1\": -0.4999, \"N_KICKS\": 16},\n",
    "    \"D\":  {\"type\" : \"DRIF\" , \"L\": 3.5805},\n",
    "    \"W1\": {\"type\" : \"WATCH\", \"filename\":\"\\\"%s-%03ld.w1\\\"\",\"mode\": \"coordinates\"}\n",
    "}\n",
    "\n",
    "FODOstr    = \"! FODO cell used for studying TRIBs\\n\\n\"\n",
    "stringlist = [\"{:6}: {}\".format(k,\", \".join([\"{}={:15.12f}\".format(kk,vv) \n",
    "                                             if not isinstance(vv,str)\n",
    "                                             else \"{}={}\".format(kk,vv)\n",
    "                                             if kk!=\"type\" else \"{}\".format(vv) for kk,vv in v.items()])) \n",
    "              for k,v in elements.items()]\n",
    "line     = [\"W1\",\"QF\",\"D\",\"QD\",\"D\",\"QF\"]\n",
    "linestr  = \"{:6}: LINE=({})\".format(\"FODO\",\",\".join(line))\n",
    "FODOstr += \"\\n\".join(stringlist)\n",
    "FODOstr += \"\\n\\n\"\n",
    "FODOstr += linestr\n",
    "\n",
    "print(FODOstr)\n",
    "\n",
    "with open(\"FODO_TRIB.lte\",\"w\") as f:\n",
    "    f.write(FODOstr)"
   ]
  },
  {
   "cell_type": "code",
   "execution_count": 33,
   "id": "7052422e",
   "metadata": {},
   "outputs": [],
   "source": [
    "lbllte = LatticeBuilderLine()\n",
    "lbllte.load_lattice_from_file(\"FODO_TRIB.lte\",ftype='lte')"
   ]
  },
  {
   "cell_type": "code",
   "execution_count": 34,
   "id": "5a1413de",
   "metadata": {},
   "outputs": [
    {
     "data": {
      "text/plain": [
       "['W1', 'QF', 'D', 'QD', 'D', 'QF']"
      ]
     },
     "execution_count": 34,
     "metadata": {},
     "output_type": "execute_result"
    }
   ],
   "source": [
    "lbllte.lattice"
   ]
  },
  {
   "cell_type": "code",
   "execution_count": 35,
   "id": "3c5e3224",
   "metadata": {},
   "outputs": [],
   "source": [
    "lbllte.load_definitions_from_file(\"FODO_TRIB.lte\",ftype='lte')"
   ]
  },
  {
   "cell_type": "code",
   "execution_count": 36,
   "id": "e2346afd",
   "metadata": {},
   "outputs": [
    {
     "data": {
      "text/plain": [
       "{'QF': {'name': 'QF',\n",
       "  'family': 'QUADRUPOLE',\n",
       "  'L': 0.342,\n",
       "  'K1': 0.49,\n",
       "  'N_KICKS': 16.0},\n",
       " 'QD': {'name': 'QD',\n",
       "  'family': 'QUADRUPOLE',\n",
       "  'L': 0.668,\n",
       "  'K1': -0.4999,\n",
       "  'N_KICKS': 16.0},\n",
       " 'D': {'name': 'D', 'family': 'DRIFT', 'L': 3.5805},\n",
       " 'W1': {'name': 'W1', 'family': 'MARKER', 'L': 0.0}}"
      ]
     },
     "execution_count": 36,
     "metadata": {},
     "output_type": "execute_result"
    }
   ],
   "source": [
    "lbllte.definitions"
   ]
  },
  {
   "cell_type": "code",
   "execution_count": 37,
   "id": "b1d91c83",
   "metadata": {},
   "outputs": [],
   "source": [
    "# the table needs to be updated manually\n",
    "lbllte.table"
   ]
  },
  {
   "cell_type": "code",
   "execution_count": 38,
   "id": "1a7c5877",
   "metadata": {},
   "outputs": [],
   "source": [
    "lbllte.build_table()"
   ]
  },
  {
   "cell_type": "code",
   "execution_count": 39,
   "id": "beea9adb",
   "metadata": {},
   "outputs": [
    {
     "data": {
      "text/html": [
       "<div>\n",
       "<style scoped>\n",
       "    .dataframe tbody tr th:only-of-type {\n",
       "        vertical-align: middle;\n",
       "    }\n",
       "\n",
       "    .dataframe tbody tr th {\n",
       "        vertical-align: top;\n",
       "    }\n",
       "\n",
       "    .dataframe thead th {\n",
       "        text-align: right;\n",
       "    }\n",
       "</style>\n",
       "<table border=\"1\" class=\"dataframe\">\n",
       "  <thead>\n",
       "    <tr style=\"text-align: right;\">\n",
       "      <th></th>\n",
       "      <th>name</th>\n",
       "      <th>family</th>\n",
       "      <th>L</th>\n",
       "      <th>K1</th>\n",
       "      <th>N_KICKS</th>\n",
       "      <th>pos</th>\n",
       "    </tr>\n",
       "  </thead>\n",
       "  <tbody>\n",
       "    <tr>\n",
       "      <th>0</th>\n",
       "      <td>W1</td>\n",
       "      <td>MARKER</td>\n",
       "      <td>0.0000</td>\n",
       "      <td>NaN</td>\n",
       "      <td>NaN</td>\n",
       "      <td>0.00000</td>\n",
       "    </tr>\n",
       "    <tr>\n",
       "      <th>1</th>\n",
       "      <td>QF</td>\n",
       "      <td>QUADRUPOLE</td>\n",
       "      <td>0.3420</td>\n",
       "      <td>0.4900</td>\n",
       "      <td>16.0</td>\n",
       "      <td>0.17100</td>\n",
       "    </tr>\n",
       "    <tr>\n",
       "      <th>2</th>\n",
       "      <td>D</td>\n",
       "      <td>DRIFT</td>\n",
       "      <td>3.5805</td>\n",
       "      <td>NaN</td>\n",
       "      <td>NaN</td>\n",
       "      <td>2.13225</td>\n",
       "    </tr>\n",
       "    <tr>\n",
       "      <th>3</th>\n",
       "      <td>QD</td>\n",
       "      <td>QUADRUPOLE</td>\n",
       "      <td>0.6680</td>\n",
       "      <td>-0.4999</td>\n",
       "      <td>16.0</td>\n",
       "      <td>4.25650</td>\n",
       "    </tr>\n",
       "    <tr>\n",
       "      <th>4</th>\n",
       "      <td>D</td>\n",
       "      <td>DRIFT</td>\n",
       "      <td>3.5805</td>\n",
       "      <td>NaN</td>\n",
       "      <td>NaN</td>\n",
       "      <td>6.38075</td>\n",
       "    </tr>\n",
       "    <tr>\n",
       "      <th>5</th>\n",
       "      <td>QF</td>\n",
       "      <td>QUADRUPOLE</td>\n",
       "      <td>0.3420</td>\n",
       "      <td>0.4900</td>\n",
       "      <td>16.0</td>\n",
       "      <td>8.34200</td>\n",
       "    </tr>\n",
       "  </tbody>\n",
       "</table>\n",
       "</div>"
      ],
      "text/plain": [
       "  name      family       L      K1  N_KICKS      pos\n",
       "0   W1      MARKER  0.0000     NaN      NaN  0.00000\n",
       "1   QF  QUADRUPOLE  0.3420  0.4900     16.0  0.17100\n",
       "2    D       DRIFT  3.5805     NaN      NaN  2.13225\n",
       "3   QD  QUADRUPOLE  0.6680 -0.4999     16.0  4.25650\n",
       "4    D       DRIFT  3.5805     NaN      NaN  6.38075\n",
       "5   QF  QUADRUPOLE  0.3420  0.4900     16.0  8.34200"
      ]
     },
     "execution_count": 39,
     "metadata": {},
     "output_type": "execute_result"
    }
   ],
   "source": [
    "lbllte.table"
   ]
  },
  {
   "cell_type": "markdown",
   "id": "cfeb6437",
   "metadata": {},
   "source": [
    "## MADX - Sequence file"
   ]
  },
  {
   "cell_type": "code",
   "execution_count": 40,
   "id": "400b535e",
   "metadata": {},
   "outputs": [
    {
     "name": "stdout",
     "output_type": "stream",
     "text": [
      "\n",
      "QF : QUADRUPOLE, L := 0.50 , K1 :=  1.00;\n",
      "QD : QUADRUPOLE, L := 1.00 , K1 := -1.00;\n",
      "D1 : DRIFT, L := 1.00;\n",
      "D2 : DRIFT, L := 1.00;\n",
      "\n",
      "FODO: SEQUENCE, L=4.00;\n",
      "QF, at = 0.25;\n",
      "D1, at = 1.00;\n",
      "QD, at = 2.00;\n",
      "D2, at = 3.00;\n",
      "QF, at = 3.75;\n",
      "ENDSEQUENCE;\n",
      "\n"
     ]
    }
   ],
   "source": [
    "FODOseqstr = \"\"\"\n",
    "QF : QUADRUPOLE, L := 0.50 , K1 :=  1.00;\n",
    "QD : QUADRUPOLE, L := 1.00 , K1 := -1.00;\n",
    "D1 : DRIFT, L := 1.00;\n",
    "D2 : DRIFT, L := 1.00;\n",
    "\n",
    "FODO: SEQUENCE, L=4.00;\n",
    "QF, at = 0.25;\n",
    "D1, at = 1.00;\n",
    "QD, at = 2.00;\n",
    "D2, at = 3.00;\n",
    "QF, at = 3.75;\n",
    "ENDSEQUENCE;\n",
    "\"\"\"\n",
    "\n",
    "print(FODOseqstr)\n",
    "\n",
    "with open(\"FODO_TRIB.seq\",\"w\") as f:\n",
    "    f.write(FODOseqstr)"
   ]
  },
  {
   "cell_type": "code",
   "execution_count": 41,
   "id": "adbc0d1f",
   "metadata": {},
   "outputs": [
    {
     "data": {
      "text/plain": [
       "['QF', 'D1', 'QD', 'D2', 'QF']"
      ]
     },
     "execution_count": 41,
     "metadata": {},
     "output_type": "execute_result"
    }
   ],
   "source": [
    "lblseq = LatticeBuilderLine()\n",
    "lblseq.load_lattice_from_file(\"FODO_TRIB.seq\",ftype='madx-seq')\n",
    "lblseq.lattice"
   ]
  },
  {
   "cell_type": "code",
   "execution_count": 42,
   "id": "6c45fc04",
   "metadata": {},
   "outputs": [
    {
     "data": {
      "text/plain": [
       "{'QF': {'name': 'QF', 'family': 'QUADRUPOLE', 'L': 0.5, 'K1': 1.0},\n",
       " 'QD': {'name': 'QD', 'family': 'QUADRUPOLE', 'L': 1.0, 'K1': -1.0},\n",
       " 'D1': {'name': 'D1', 'family': 'DRIFT', 'L': 1.0},\n",
       " 'D2': {'name': 'D2', 'family': 'DRIFT', 'L': 1.0}}"
      ]
     },
     "execution_count": 42,
     "metadata": {},
     "output_type": "execute_result"
    }
   ],
   "source": [
    "lblseq.load_definitions_from_file(\"FODO_TRIB.seq\",ftype='madx-seq')\n",
    "lblseq.definitions"
   ]
  },
  {
   "cell_type": "code",
   "execution_count": 43,
   "id": "c485d8b8",
   "metadata": {},
   "outputs": [
    {
     "data": {
      "text/html": [
       "<div>\n",
       "<style scoped>\n",
       "    .dataframe tbody tr th:only-of-type {\n",
       "        vertical-align: middle;\n",
       "    }\n",
       "\n",
       "    .dataframe tbody tr th {\n",
       "        vertical-align: top;\n",
       "    }\n",
       "\n",
       "    .dataframe thead th {\n",
       "        text-align: right;\n",
       "    }\n",
       "</style>\n",
       "<table border=\"1\" class=\"dataframe\">\n",
       "  <thead>\n",
       "    <tr style=\"text-align: right;\">\n",
       "      <th></th>\n",
       "      <th>name</th>\n",
       "      <th>family</th>\n",
       "      <th>L</th>\n",
       "      <th>K1</th>\n",
       "      <th>pos</th>\n",
       "    </tr>\n",
       "  </thead>\n",
       "  <tbody>\n",
       "    <tr>\n",
       "      <th>0</th>\n",
       "      <td>QF</td>\n",
       "      <td>QUADRUPOLE</td>\n",
       "      <td>0.5</td>\n",
       "      <td>1.0</td>\n",
       "      <td>0.25</td>\n",
       "    </tr>\n",
       "    <tr>\n",
       "      <th>1</th>\n",
       "      <td>D1</td>\n",
       "      <td>DRIFT</td>\n",
       "      <td>1.0</td>\n",
       "      <td>NaN</td>\n",
       "      <td>1.00</td>\n",
       "    </tr>\n",
       "    <tr>\n",
       "      <th>2</th>\n",
       "      <td>QD</td>\n",
       "      <td>QUADRUPOLE</td>\n",
       "      <td>1.0</td>\n",
       "      <td>-1.0</td>\n",
       "      <td>2.00</td>\n",
       "    </tr>\n",
       "    <tr>\n",
       "      <th>3</th>\n",
       "      <td>D2</td>\n",
       "      <td>DRIFT</td>\n",
       "      <td>1.0</td>\n",
       "      <td>NaN</td>\n",
       "      <td>3.00</td>\n",
       "    </tr>\n",
       "    <tr>\n",
       "      <th>4</th>\n",
       "      <td>QF</td>\n",
       "      <td>QUADRUPOLE</td>\n",
       "      <td>0.5</td>\n",
       "      <td>1.0</td>\n",
       "      <td>3.75</td>\n",
       "    </tr>\n",
       "  </tbody>\n",
       "</table>\n",
       "</div>"
      ],
      "text/plain": [
       "  name      family    L   K1   pos\n",
       "0   QF  QUADRUPOLE  0.5  1.0  0.25\n",
       "1   D1       DRIFT  1.0  NaN  1.00\n",
       "2   QD  QUADRUPOLE  1.0 -1.0  2.00\n",
       "3   D2       DRIFT  1.0  NaN  3.00\n",
       "4   QF  QUADRUPOLE  0.5  1.0  3.75"
      ]
     },
     "execution_count": 43,
     "metadata": {},
     "output_type": "execute_result"
    }
   ],
   "source": [
    "lblseq.build_table()\n",
    "lblseq.table"
   ]
  },
  {
   "cell_type": "markdown",
   "id": "e33d2b37",
   "metadata": {},
   "source": [
    "## MADX Line def"
   ]
  },
  {
   "cell_type": "code",
   "execution_count": 44,
   "id": "bef9c65f",
   "metadata": {},
   "outputs": [
    {
     "name": "stdout",
     "output_type": "stream",
     "text": [
      "\n",
      "QF : QUADRUPOLE, L := 0.50 , K1 :=  1.00;\n",
      "QD : QUADRUPOLE, L := 1.00 , K1 := -1.00;\n",
      "D1 : DRIFT, L := 1.00;\n",
      "D2 : DRIFT, L := 1.00;\n",
      "\n",
      "FODO: LINE = (QF,D1,QD,D2,QF);\n",
      "\n"
     ]
    }
   ],
   "source": [
    "FODOlinestr = \"\"\"\n",
    "QF : QUADRUPOLE, L := 0.50 , K1 :=  1.00;\n",
    "QD : QUADRUPOLE, L := 1.00 , K1 := -1.00;\n",
    "D1 : DRIFT, L := 1.00;\n",
    "D2 : DRIFT, L := 1.00;\n",
    "\n",
    "FODO: LINE = (QF,D1,QD,D2,QF);\n",
    "\"\"\"\n",
    "\n",
    "print(FODOlinestr)\n",
    "\n",
    "with open(\"FODO_TRIB.madx\",\"w\") as f:\n",
    "    f.write(FODOlinestr)"
   ]
  },
  {
   "cell_type": "code",
   "execution_count": 45,
   "id": "735d1b65",
   "metadata": {},
   "outputs": [
    {
     "data": {
      "text/plain": [
       "['QF', 'D1', 'QD', 'D2', 'QF']"
      ]
     },
     "execution_count": 45,
     "metadata": {},
     "output_type": "execute_result"
    }
   ],
   "source": [
    "lblmadx = LatticeBuilderLine()\n",
    "lblmadx.load_lattice_from_file(\"FODO_TRIB.madx\",ftype='madx-line')\n",
    "lblmadx.lattice"
   ]
  },
  {
   "cell_type": "code",
   "execution_count": 46,
   "id": "8fcb36fe",
   "metadata": {},
   "outputs": [
    {
     "data": {
      "text/plain": [
       "{'QF': {'name': 'QF', 'family': 'QUADRUPOLE', 'L': 0.5, 'K1': 1.0},\n",
       " 'QD': {'name': 'QD', 'family': 'QUADRUPOLE', 'L': 1.0, 'K1': -1.0},\n",
       " 'D1': {'name': 'D1', 'family': 'DRIFT', 'L': 1.0},\n",
       " 'D2': {'name': 'D2', 'family': 'DRIFT', 'L': 1.0}}"
      ]
     },
     "execution_count": 46,
     "metadata": {},
     "output_type": "execute_result"
    }
   ],
   "source": [
    "lblmadx.load_definitions_from_file(\"FODO_TRIB.madx\",ftype='madx-line')\n",
    "lblmadx.definitions"
   ]
  },
  {
   "cell_type": "code",
   "execution_count": 47,
   "id": "821d136e",
   "metadata": {},
   "outputs": [
    {
     "data": {
      "text/html": [
       "<div>\n",
       "<style scoped>\n",
       "    .dataframe tbody tr th:only-of-type {\n",
       "        vertical-align: middle;\n",
       "    }\n",
       "\n",
       "    .dataframe tbody tr th {\n",
       "        vertical-align: top;\n",
       "    }\n",
       "\n",
       "    .dataframe thead th {\n",
       "        text-align: right;\n",
       "    }\n",
       "</style>\n",
       "<table border=\"1\" class=\"dataframe\">\n",
       "  <thead>\n",
       "    <tr style=\"text-align: right;\">\n",
       "      <th></th>\n",
       "      <th>name</th>\n",
       "      <th>family</th>\n",
       "      <th>L</th>\n",
       "      <th>K1</th>\n",
       "      <th>pos</th>\n",
       "    </tr>\n",
       "  </thead>\n",
       "  <tbody>\n",
       "    <tr>\n",
       "      <th>0</th>\n",
       "      <td>QF</td>\n",
       "      <td>QUADRUPOLE</td>\n",
       "      <td>0.5</td>\n",
       "      <td>1.0</td>\n",
       "      <td>0.25</td>\n",
       "    </tr>\n",
       "    <tr>\n",
       "      <th>1</th>\n",
       "      <td>D1</td>\n",
       "      <td>DRIFT</td>\n",
       "      <td>1.0</td>\n",
       "      <td>NaN</td>\n",
       "      <td>1.00</td>\n",
       "    </tr>\n",
       "    <tr>\n",
       "      <th>2</th>\n",
       "      <td>QD</td>\n",
       "      <td>QUADRUPOLE</td>\n",
       "      <td>1.0</td>\n",
       "      <td>-1.0</td>\n",
       "      <td>2.00</td>\n",
       "    </tr>\n",
       "    <tr>\n",
       "      <th>3</th>\n",
       "      <td>D2</td>\n",
       "      <td>DRIFT</td>\n",
       "      <td>1.0</td>\n",
       "      <td>NaN</td>\n",
       "      <td>3.00</td>\n",
       "    </tr>\n",
       "    <tr>\n",
       "      <th>4</th>\n",
       "      <td>QF</td>\n",
       "      <td>QUADRUPOLE</td>\n",
       "      <td>0.5</td>\n",
       "      <td>1.0</td>\n",
       "      <td>3.75</td>\n",
       "    </tr>\n",
       "  </tbody>\n",
       "</table>\n",
       "</div>"
      ],
      "text/plain": [
       "  name      family    L   K1   pos\n",
       "0   QF  QUADRUPOLE  0.5  1.0  0.25\n",
       "1   D1       DRIFT  1.0  NaN  1.00\n",
       "2   QD  QUADRUPOLE  1.0 -1.0  2.00\n",
       "3   D2       DRIFT  1.0  NaN  3.00\n",
       "4   QF  QUADRUPOLE  0.5  1.0  3.75"
      ]
     },
     "execution_count": 47,
     "metadata": {},
     "output_type": "execute_result"
    }
   ],
   "source": [
    "lblmadx.build_table()\n",
    "lblmadx.table"
   ]
  }
 ],
 "metadata": {
  "kernelspec": {
   "display_name": "Python [conda env:latticeconstructorenv]",
   "language": "python",
   "name": "conda-env-latticeconstructorenv-py"
  },
  "language_info": {
   "codemirror_mode": {
    "name": "ipython",
    "version": 3
   },
   "file_extension": ".py",
   "mimetype": "text/x-python",
   "name": "python",
   "nbconvert_exporter": "python",
   "pygments_lexer": "ipython3",
   "version": "3.9.4"
  },
  "latex_envs": {
   "LaTeX_envs_menu_present": true,
   "autoclose": false,
   "autocomplete": true,
   "bibliofile": "biblio.bib",
   "cite_by": "apalike",
   "current_citInitial": 1,
   "eqLabelWithNumbers": true,
   "eqNumInitial": 1,
   "hotkeys": {
    "equation": "Ctrl-E",
    "itemize": "Ctrl-I"
   },
   "labels_anchors": false,
   "latex_user_defs": false,
   "report_style_numbering": false,
   "user_envs_cfg": false
  },
  "toc": {
   "base_numbering": 1,
   "nav_menu": {},
   "number_sections": true,
   "sideBar": true,
   "skip_h1_title": false,
   "title_cell": "Table of Contents",
   "title_sidebar": "Contents",
   "toc_cell": false,
   "toc_position": {},
   "toc_section_display": true,
   "toc_window_display": false
  }
 },
 "nbformat": 4,
 "nbformat_minor": 5
}
